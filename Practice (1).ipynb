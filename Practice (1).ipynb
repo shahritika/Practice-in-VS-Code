{
 "cells": [
  {
   "cell_type": "markdown",
   "id": "c5dafb38-9d0e-46f6-a594-80c2be0d5954",
   "metadata": {},
   "source": [
    "# Guess the number"
   ]
  },
  {
   "cell_type": "code",
   "execution_count": null,
   "id": "98de0c6e-0b2e-430d-9552-b06bd4b62e7f",
   "metadata": {},
   "outputs": [],
   "source": [
    "import random\n",
    "\n",
    "# Computer picks a random number between 1 and 10\n",
    "secret_number = random.randint(1, 10)\n",
    "\n",
    "# Player's guess\n",
    "while True:\n",
    "    guess = int(input(\"Guess the number (between 1 and 10): \"))\n",
    "    \n",
    "    if guess == secret_number:\n",
    "        print(\"Correct! You guessed the number.\")\n",
    "        break\n",
    "    else:\n",
    "        print(\"Try again!\")"
   ]
  },
  {
   "cell_type": "code",
   "execution_count": null,
   "id": "9d669c39-34b0-481b-b132-a039d42a5d27",
   "metadata": {},
   "outputs": [],
   "source": []
  },
  {
   "cell_type": "code",
   "execution_count": null,
   "id": "1b76b04e-189c-4952-9fff-eeb8c7d515c3",
   "metadata": {},
   "outputs": [],
   "source": []
  }
 ],
 "metadata": {
  "kernelspec": {
   "display_name": "anaconda-2024.02-py310",
   "language": "python",
   "name": "conda-env-anaconda-2024.02-py310-py"
  },
  "language_info": {
   "codemirror_mode": {
    "name": "ipython",
    "version": 3
   },
   "file_extension": ".py",
   "mimetype": "text/x-python",
   "name": "python",
   "nbconvert_exporter": "python",
   "pygments_lexer": "ipython3",
   "version": "3.10.14"
  }
 },
 "nbformat": 4,
 "nbformat_minor": 5
}
